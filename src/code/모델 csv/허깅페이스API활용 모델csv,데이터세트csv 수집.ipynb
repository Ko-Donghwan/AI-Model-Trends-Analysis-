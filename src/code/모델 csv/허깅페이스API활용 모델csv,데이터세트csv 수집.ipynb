{
 "cells": [
  {
   "cell_type": "markdown",
   "metadata": {},
   "source": [
    "### 허깅페이스 모델 데이터세트 수집 코드"
   ]
  },
  {
   "cell_type": "code",
   "execution_count": null,
   "metadata": {},
   "outputs": [
    {
     "name": "stderr",
     "output_type": "stream",
     "text": [
      "c:\\Users\\kodonghwan\\AppData\\Local\\Programs\\Python\\Python312\\Lib\\site-packages\\tqdm\\auto.py:21: TqdmWarning: IProgress not found. Please update jupyter and ipywidgets. See https://ipywidgets.readthedocs.io/en/stable/user_install.html\n",
      "  from .autonotebook import tqdm as notebook_tqdm\n",
      "Fetching model metadata: 1407537it [15:53, 1476.21it/s]\n",
      "Processing tags: 100%|██████████| 1407537/1407537 [02:34<00:00, 9132.93it/s] \n"
     ]
    }
   ],
   "source": [
    "from huggingface_hub import HfApi\n",
    "import pandas as pd\n",
    "from tqdm import tqdm\n",
    "import ast\n",
    "from datetime import datetime\n",
    "\n",
    "now = datetime.now() # 현재 날짜와 시간 얻기\n",
    "\n",
    "year = now.year # 연, 월, 일 각각의 변수에 저장\n",
    "month = now.month\n",
    "day = now.day\n",
    "\n",
    "api = HfApi() # Hugging Face API 인스턴스 생성\n",
    "models_generator = api.list_models(full=True) # 모델 리스트를 가져오기 (모델 메타 데이터 포함)\n",
    "\n",
    "models_data = [] # 모델 메타 데이터를 저장할 리스트 초기화\n",
    "\n",
    "for model in tqdm(models_generator, desc=\"Fetching model metadata\"): # 모델 메타 데이터를 가져오는 동안 진행도 표시\n",
    "    models_data.append(model)\n",
    "\n",
    "df = pd.DataFrame(models_data) # 데이터프레임으로 변환\n",
    "columns_to_drop = ['siblings', 'mask_token', 'card_data', 'widget_data', 'model_index', 'config', 'transformers_info', 'spaces', 'safetensors'] # 불필요한 컬럼 삭제\n",
    "df = df.drop(columns=columns_to_drop)\n",
    "\n",
    "df['arxiv'] = '' # 2. 새로운 컬럼 생성\n",
    "df['dataset'] = ''\n",
    "df['region'] = ''\n",
    "df['license'] = ''\n",
    "\n",
    "def process_tags(tags): # 3. tags 컬럼의 객체들을 각 컬럼에 입력하고 tags에서 삭제\n",
    "    arxiv, dataset, region, license = '', '', '', ''\n",
    "    new_tags = []\n",
    "    for tag in tags:\n",
    "        lower_tag = tag.lower()\n",
    "        if lower_tag.startswith('arxiv:'):\n",
    "            arxiv = tag\n",
    "        elif lower_tag.startswith('dataset:'):\n",
    "            dataset = tag\n",
    "        elif lower_tag.startswith('region:'):\n",
    "            region = tag\n",
    "        elif lower_tag.startswith('license:'):\n",
    "            license = tag\n",
    "        else:  # 특정 객체를 삭제하지 않음\n",
    "            new_tags.append(tag)\n",
    "    return arxiv, dataset, region, license, new_tags\n",
    "\n",
    "for index in tqdm(range(len(df)), desc=\"Processing tags\"): # 진행도를 표시하면서 tags 컬럼 처리\n",
    "    tags_data = df.at[index, 'tags']\n",
    "    if isinstance(tags_data, str):\n",
    "        tags_data = ast.literal_eval(tags_data)\n",
    "    arxiv, dataset, region, license, new_tags = process_tags(tags_data)\n",
    "    df.at[index, 'arxiv'] = arxiv\n",
    "    df.at[index, 'dataset'] = dataset\n",
    "    df.at[index, 'region'] = region\n",
    "    df.at[index, 'license'] = license\n",
    "    df.at[index, 'tags'] = new_tags\n",
    "\n",
    "output_csv_file = f'./Model_{month:02d}-{day:02d}.csv' # 4. 수정된 데이터 프레임을 CSV 파일로 저장한다.\n",
    "df.to_csv(output_csv_file, index=False)"
   ]
  }
 ],
 "metadata": {
  "kernelspec": {
   "display_name": "Python 3",
   "language": "python",
   "name": "python3"
  },
  "language_info": {
   "codemirror_mode": {
    "name": "ipython",
    "version": 3
   },
   "file_extension": ".py",
   "mimetype": "text/x-python",
   "name": "python",
   "nbconvert_exporter": "python",
   "pygments_lexer": "ipython3",
   "version": "3.12.9"
  }
 },
 "nbformat": 4,
 "nbformat_minor": 2
}
